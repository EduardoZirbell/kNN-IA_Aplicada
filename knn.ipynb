{
 "cells": [
  {
   "cell_type": "markdown",
   "id": "99b9759b",
   "metadata": {},
   "source": [
    "DataSet 1"
   ]
  },
  {
   "cell_type": "code",
   "execution_count": 51,
   "id": "03ce38df",
   "metadata": {},
   "outputs": [],
   "source": [
    "import scipy.io as scipy\n",
    "import math\n",
    "import numpy as np\n",
    "from statistics import mode\n",
    "import matplotlib.pyplot as plt\n",
    "\n",
    "mat = scipy.loadmat('grupoDados1.mat')\n",
    "grupoTeste = mat['grupoTest']\n",
    "grupoTreino = mat['grupoTrain']\n",
    "testeRots = mat['testRots'].flatten()\n",
    "treinoRots = mat['trainRots'].flatten()"
   ]
  },
  {
   "cell_type": "code",
   "execution_count": 52,
   "id": "82528418",
   "metadata": {},
   "outputs": [
    {
     "name": "stdout",
     "output_type": "stream",
     "text": [
      "Teste utilizando k=1\n",
      "Acurácia: 0.96\n",
      "\n",
      "- - - - - - - - - - - - - - - - \n",
      "\n",
      "Teste utilizando k=3\n",
      "Acurácia: 0.98\n",
      "\n",
      "- - - - - - - - - - - - - - - - \n",
      "\n",
      "Teste utilizando k=5\n",
      "Acurácia: 0.96\n",
      "\n",
      "- - - - - - - - - - - - - - - - \n",
      "\n",
      "Teste utilizando k=7\n",
      "Acurácia: 0.96\n",
      "\n",
      "- - - - - - - - - - - - - - - - \n",
      "\n",
      "Teste utilizando k=10\n",
      "Acurácia: 0.94\n"
     ]
    }
   ],
   "source": [
    "def normalizacao(dados):\n",
    "    min_dados = np.min(dados)\n",
    "    max_dados = np.max(dados)\n",
    "    lista = []\n",
    "    for i in dados:\n",
    "        lista.append((i - min_dados) / (max_dados - min_dados))\n",
    "    return lista\n",
    "\n",
    "def dist(x, y):\n",
    "    soma = 0\n",
    "    for i in range(len(x)):\n",
    "        soma += (x[i] - y[i])**2\n",
    "    return math.sqrt(soma)\n",
    "\n",
    "def meuKnn(dadosTreino, rotuloTreino, dadosTeste, k):\n",
    "    previsoes = []\n",
    "    for i in range(len(dadosTeste)):\n",
    "        distancias = []\n",
    "        for j in range(len(dadosTreino)):\n",
    "            distancia = dist(dadosTeste[i], dadosTreino[j])\n",
    "            distancias.append((distancia, rotuloTreino[j]))\n",
    "        # Ordenar pela distância\n",
    "        distanciasOrdenadas = sorted(distancias)\n",
    "        # Selecionar os k vizinhos mais próximos\n",
    "        vizinhos = [x[1] for x in distanciasOrdenadas[:k]]\n",
    "        # Rótulo previsto = moda dos vizinhos\n",
    "        rotulo_pred = mode(vizinhos)\n",
    "        previsoes.append(rotulo_pred)\n",
    "    return np.array(previsoes)\n",
    "\n",
    "# Testando com k=1\n",
    "rotuloPrevisto = meuKnn(grupoTreino, treinoRots, grupoTeste, 1)\n",
    "\n",
    "# Acurácia\n",
    "estaCorreto = rotuloPrevisto == testeRots\n",
    "numCorreto = np.sum(estaCorreto)\n",
    "totalNum = len(testeRots)\n",
    "acuracia = numCorreto / totalNum\n",
    "\n",
    "print(\"Teste utilizando k=1\")\n",
    "print(\"Acurácia:\", acuracia)\n",
    "    \n",
    "print(\"\\n- - - - - - - - - - - - - - - - \\n\")\n",
    "\n",
    "# Testando com k=3\n",
    "rotuloPrevisto = meuKnn(grupoTreino, treinoRots, grupoTeste, 3)\n",
    "\n",
    "# Acurácia\n",
    "estaCorreto = rotuloPrevisto == testeRots\n",
    "numCorreto = np.sum(estaCorreto)\n",
    "totalNum = len(testeRots)\n",
    "acuracia = numCorreto / totalNum\n",
    "\n",
    "print(\"Teste utilizando k=3\")\n",
    "print(\"Acurácia:\", acuracia)\n",
    "\n",
    "print(\"\\n- - - - - - - - - - - - - - - - \\n\")\n",
    "\n",
    "# Testando com k=5\n",
    "rotuloPrevisto = meuKnn(grupoTreino, treinoRots, grupoTeste, 5)\n",
    "\n",
    "# Acurácia\n",
    "estaCorreto = rotuloPrevisto == testeRots\n",
    "numCorreto = np.sum(estaCorreto)\n",
    "totalNum = len(testeRots)\n",
    "acuracia = numCorreto / totalNum\n",
    "\n",
    "print(\"Teste utilizando k=5\")\n",
    "print(\"Acurácia:\", acuracia)\n",
    "\n",
    "print(\"\\n- - - - - - - - - - - - - - - - \\n\")\n",
    "\n",
    "# Testando com k=7\n",
    "rotuloPrevisto = meuKnn(grupoTreino, treinoRots, grupoTeste, 7)\n",
    "\n",
    "# Acurácia\n",
    "estaCorreto = rotuloPrevisto == testeRots\n",
    "numCorreto = np.sum(estaCorreto)\n",
    "totalNum = len(testeRots)\n",
    "acuracia = numCorreto / totalNum\n",
    "\n",
    "print(\"Teste utilizando k=7\")\n",
    "print(\"Acurácia:\", acuracia)\n",
    "\n",
    "print(\"\\n- - - - - - - - - - - - - - - - \\n\")\n",
    "\n",
    "# Testando com k=10\n",
    "rotuloPrevisto = meuKnn(grupoTreino, treinoRots, grupoTeste, 10)\n",
    "\n",
    "# Acurácia\n",
    "estaCorreto = rotuloPrevisto == testeRots\n",
    "numCorreto = np.sum(estaCorreto)\n",
    "totalNum = len(testeRots)\n",
    "acuracia = numCorreto / totalNum\n",
    "\n",
    "print(\"Teste utilizando k=10\")\n",
    "print(\"Acurácia:\", acuracia)"
   ]
  },
  {
   "cell_type": "code",
   "execution_count": 53,
   "id": "35f3d816",
   "metadata": {},
   "outputs": [
    {
     "data": {
      "image/png": "[encoded data removed]",
      "text/plain": [
       "<Figure size 640x480 with 1 Axes>"
      ]
     },
     "metadata": {},
     "output_type": "display_data"
    }
   ],
   "source": [
    "def getDadosRotulo(dados, rotulos, rotulo, indice):\n",
    "    ret = []\n",
    "    for idx in range(0, len(dados)):\n",
    "        if(rotulos[idx] == rotulo):\n",
    "            ret.append(dados[idx][indice])        \n",
    "    return ret\n",
    "\n",
    "def visualizaPontos(dados, rotulos, d1, d2):\n",
    "    fig, ax = plt.subplots() \n",
    "    ax.scatter(getDadosRotulo(dados, rotulos, 1, d1), getDadosRotulo(dados, rotulos, 1, d2), c='red' , marker='^')\n",
    "    ax.scatter(getDadosRotulo(dados, rotulos, 2, d1), getDadosRotulo(dados, rotulos, 2, d2), c='blue' , marker='+')\n",
    "    ax.scatter(getDadosRotulo(dados, rotulos, 3, d1), getDadosRotulo(dados, rotulos, 3, d2), c='green', marker='.')\n",
    "    ax.set_xlabel(\"X\")\n",
    "    ax.set_ylabel(\"Y\")\n",
    "    ax.legend(['Rótulo 1', 'Rótulo 2', 'Rótulo 3'])\n",
    "    plt.show()\n",
    "\n",
    "visualizaPontos(grupoTreino, treinoRots, 0, 1)"
   ]
  },
  {
   "cell_type": "markdown",
   "id": "5f381e80",
   "metadata": {},
   "source": [
    "Grupo de Dados 1:\n",
    "O grupoDados1 é um conjunto de dados de flores. Para mais informações consulte: http://archive.ics.uci.edu/ml/datasets/Iris .\n",
    "\n",
    "Q1.1. Qual é a acurácia máxima que você consegue da classificação?"
   ]
  },
  {
   "cell_type": "code",
   "execution_count": 54,
   "id": "f5e38756",
   "metadata": {},
   "outputs": [
    {
     "name": "stdout",
     "output_type": "stream",
     "text": [
      "Acurácia máxima da classificação: 0.98\n"
     ]
    }
   ],
   "source": [
    "acuracia = 0\n",
    "for k in [1, 3, 5, 7, 10]:\n",
    "    rotuloPrevisto = meuKnn(grupoTreino, treinoRots, grupoTeste, k)\n",
    "\n",
    "    # Acurácia\n",
    "    estaCorreto = rotuloPrevisto == testeRots\n",
    "    numCorreto = np.sum(estaCorreto)\n",
    "    totalNum = len(testeRots)\n",
    "    if acuracia < (numCorreto / totalNum):\n",
    "        acuracia = numCorreto / totalNum\n",
    "print(\"Acurácia máxima da classificação:\", acuracia)"
   ]
  },
  {
   "cell_type": "markdown",
   "id": "1bf6325c",
   "metadata": {},
   "source": [
    "Q1.2. É necessário ter todas as características (atributos) para obter a acurácia máxima para esta classificação?\n",
    "\n",
    "Adicionar o TESTE AQUI FAZENDO APENAS COM PETALAS (LARGURA E COMPRIMENTO )E APENAS COM SEPALAS (LARGURA E COMPRIMENTO)"
   ]
  },
  {
   "cell_type": "code",
   "execution_count": 55,
   "id": "5b6a4754",
   "metadata": {},
   "outputs": [
    {
     "name": "stdout",
     "output_type": "stream",
     "text": [
      "Acurácia usando só sépalas (k=1): 0.70\n",
      "Acurácia usando só pétalas (k=1): 0.96\n",
      "Acurácia usando só sépalas (k=3): 0.70\n",
      "Acurácia usando só pétalas (k=3): 0.96\n",
      "Acurácia usando só sépalas (k=5): 0.70\n",
      "Acurácia usando só pétalas (k=5): 0.96\n",
      "Acurácia usando só sépalas (k=7): 0.70\n",
      "Acurácia usando só pétalas (k=7): 0.96\n",
      "Acurácia usando só sépalas (k=10): 0.70\n",
      "Acurácia usando só pétalas (k=10): 0.96\n",
      "\n",
      "- - - - - - - - - - - - - - - - \n",
      "\n",
      "Logo, é necessário ter todas as categorias de features se o objetivo for maximizar a acurácia.\n"
     ]
    }
   ],
   "source": [
    "for k in [1, 3, 5, 7, 10]:\n",
    "    \n",
    "\n",
    "    # Selecionar apenas as features de sépalas (colunas 0 e 1)\n",
    "    grupoTreino_sepalas = grupoTreino[:, [0, 1]]\n",
    "    grupoTeste_sepalas = grupoTeste[:, [0, 1]]\n",
    "\n",
    "    rotuloPrevisto = meuKnn(grupoTreino_sepalas, treinoRots, grupoTeste_sepalas, 3)\n",
    "\n",
    "    estaCorreto = rotuloPrevisto == testeRots\n",
    "    numCorreto = sum(estaCorreto)\n",
    "    totalNum = len(testeRots)\n",
    "    acuracia = numCorreto / totalNum\n",
    "\n",
    "    print(f\"Acurácia usando só sépalas (k={k}): {acuracia:.2f}\")\n",
    "\n",
    "    # Selecionar apenas as features de pétala (colunas 2 e 3)\n",
    "    grupoTreino_petalas = grupoTreino[:, [2, 3]]\n",
    "    grupoTeste_petalas = grupoTeste[:, [2, 3]]\n",
    "\n",
    "    rotuloPrevisto = meuKnn(grupoTreino_petalas, treinoRots, grupoTeste_petalas, 3)\n",
    "\n",
    "    estaCorreto = rotuloPrevisto == testeRots\n",
    "    numCorreto = sum(estaCorreto)\n",
    "    totalNum = len(testeRots)\n",
    "    acuracia = numCorreto / totalNum\n",
    "\n",
    "    print(f\"Acurácia usando só pétalas (k={k}): {acuracia:.2f}\")\n",
    "\n",
    "print(\"\\n- - - - - - - - - - - - - - - - \\n\")\n",
    "print(\"Logo, é necessário ter todas as categorias de features se o objetivo for maximizar a acurácia.\")"
   ]
  },
  {
   "cell_type": "markdown",
   "id": "1d71b3e6",
   "metadata": {},
   "source": [
    "DataSet 2 - Classificação de Vinhos\n",
    "\n",
    "O Grupo de Dados 2 é um problema que visa prever a origem do vinho baseado em seus componentes químicos.\n",
    "\n",
    "Q2.1: Aplicar k-NN a este problema e verificar a acurácia de classificação."
   ]
  },
  {
   "cell_type": "code",
   "execution_count": 56,
   "id": "e8900e7c",
   "metadata": {},
   "outputs": [],
   "source": [
    "mat = scipy.loadmat('grupoDados2.mat')\n",
    "grupoTeste2 = mat['grupoTest']\n",
    "grupoTreino2 = mat['grupoTrain']\n",
    "testeRots2 = mat['testRots'].flatten()\n",
    "treinoRots2 = mat['trainRots'].flatten()"
   ]
  },
  {
   "cell_type": "code",
   "execution_count": 57,
   "id": "6619f764",
   "metadata": {},
   "outputs": [
    {
     "name": "stdout",
     "output_type": "stream",
     "text": [
      "=== Q2.1: Testando k-NN no Grupo de Dados 2 (Vinho)\n",
      "\n",
      "k=1: Acurácia = 0.6833\n",
      "k=3: Acurácia = 0.6167\n",
      "k=5: Acurácia = 0.6833\n",
      "k=7: Acurácia = 0.7333\n",
      "k=10: Acurácia = 0.7667\n"
     ]
    }
   ],
   "source": [
    "print(\"=== Q2.1: Testando k-NN no Grupo de Dados 2 (Vinho)\\n\")\n",
    "\n",
    "acuracia_maxima = 0\n",
    "melhor_k = 0\n",
    "for k in [1, 3, 5, 7, 10]:\n",
    "    rotuloPrevisto = meuKnn(grupoTreino2, treinoRots2, grupoTeste2, k)\n",
    "\n",
    "    estaCorreto = rotuloPrevisto == testeRots2\n",
    "    numCorreto = np.sum(estaCorreto)\n",
    "    totalNum = len(testeRots2)\n",
    "    acuracia = numCorreto / totalNum\n",
    "    \n",
    "    print(f\"k={k}: Acurácia = {acuracia:.4f}\")\n",
    "    \n",
    "    if acuracia > acuracia_maxima:\n",
    "        acuracia_maxima = acuracia\n",
    "        melhor_k = k\n",
    "\n"
   ]
  },
  {
   "cell_type": "code",
   "execution_count": 58,
   "id": "1b30b18f",
   "metadata": {},
   "outputs": [
    {
     "name": "stdout",
     "output_type": "stream",
     "text": [
      "Dados ORIGINAIS:\n",
      "Valores: [1.32e+01 1.78e+00 2.14e+00 1.12e+01 1.00e+02 2.65e+00 2.76e+00 2.60e-01\n",
      " 1.28e+00 4.38e+00 1.05e+00 3.40e+00 1.05e+03]\n",
      "\n",
      "Dados NORMALIZADO:\n",
      "Valores: [0.57105263 0.21181263 0.4171123  0.03092784 0.32608696 0.57586207\n",
      " 0.51054852 0.26       0.2721519  0.26450512 0.46341463 0.78021978\n",
      " 0.60835303]\n",
      "\n",
      "k=1: Acurácia = 0.9833\n",
      "k=3: Acurácia = 0.9833\n",
      "k=5: Acurácia = 0.9833\n",
      "k=7: Acurácia = 0.9833\n",
      "k=10: Acurácia = 1.0000\n"
     ]
    }
   ],
   "source": [
    "def normalizarDados(dados):\n",
    "\n",
    "    #Normalização Min-Max por coluna transforma cada feature para a escala [0,1].\n",
    "\n",
    "    for coluna in range(dados.shape[1]):\n",
    "        minimo = dados[:, coluna].min()\n",
    "        maximo = dados[:, coluna].max()\n",
    "        \n",
    "        if maximo != minimo:\n",
    "            dados[:, coluna] = (dados[:, coluna] - minimo) / (maximo - minimo)\n",
    "        else:\n",
    "            dados[:, coluna] = 0.0\n",
    "    \n",
    "    return dados\n",
    "print(\"Dados ORIGINAIS:\")\n",
    "print(f\"Valores: {grupoTreino2[0]}\\n\")\n",
    "\n",
    "grupoTeste2_Normalizado = normalizarDados(grupoTeste2)\n",
    "grupoTreino2_Normalizado = normalizarDados(grupoTreino2)\n",
    "\n",
    "print(\"Dados NORMALIZADO:\")\n",
    "print(f\"Valores: {grupoTreino2[0]}\\n\")\n",
    "\n",
    "for k in [1, 3, 5, 7, 10]:\n",
    "    rotuloPrevisto = meuKnn(grupoTreino2_Normalizado, treinoRots2, grupoTeste2_Normalizado, k)\n",
    "\n",
    "    estaCorreto = rotuloPrevisto == testeRots2\n",
    "    numCorreto = np.sum(estaCorreto)\n",
    "    totalNum = len(testeRots2)\n",
    "    acuracia = numCorreto / totalNum\n",
    "    \n",
    "    print(f\"k={k}: Acurácia = {acuracia:.4f}\")\n",
    "    \n",
    "    if acuracia > acuracia_maxima:\n",
    "        acuracia_maxima = acuracia\n",
    "        melhor_k = k\n",
    "\n"
   ]
  },
  {
   "cell_type": "code",
   "execution_count": null,
   "id": "b397cab2",
   "metadata": {},
   "outputs": [],
   "source": [
    "import numpy as np\n",
    "\n",
    "def normalizar_minmax_por_coluna(train, test):\n",
    "    \"\"\"\n",
    "    Normaliza por coluna (feature-wise) usando Min-Max com parâmetros do conjunto de treino.\n",
    "    - train: np.ndarray (n_treino, n_features)\n",
    "    - test:  np.ndarray (n_teste,  n_features)\n",
    "    Retorna: (train_norm, test_norm)\n",
    "    Regras especiais:\n",
    "      * Colunas constantes no treino ficam 0.0 em ambos (evita divisão por zero)\n",
    "    \"\"\"\n",
    "    train = np.asarray(train, dtype=float)\n",
    "    test = np.asarray(test, dtype=float)\n",
    "\n",
    "    mins = train.min(axis=0)\n",
    "    maxs = train.max(axis=0)\n",
    "    ranges = maxs - mins\n",
    "\n",
    "    # Evita divisão por zero em colunas constantes\n",
    "    ranges[ranges == 0] = 1.0\n",
    "\n",
    "    train_norm = (train - mins) / ranges\n",
    "    test_norm = (test - mins) / ranges\n",
    "    return train_norm, test_norm\n",
    "\n",
    "# Exemplo de uso (Dataset 2):\n",
    "# grupoTreino2_Normalizado, grupoTeste2_Normalizado = normalizar_minmax_por_coluna(grupoTreino2, grupoTeste2)\n",
    "# rotuloPrevisto = meuKnn(grupoTreino2_Normalizado, treinoRots2, grupoTeste2_Normalizado, 3)"
   ]
  },
  {
   "cell_type": "markdown",
   "id": "3a20c44c",
   "metadata": {},
   "source": [
    "\n",
    "### Q.2 O Explicação:\n",
    " O Dataset de vinhos tem 13 características químicas com escalas completamente **diferentes**.\n",
    " A Prolina **domina completamente** o cálculo das outras 12 características ficam irrelevantes.\n",
    "\n",
    " **Solução:** foi utilizado Normalização de Min-Max Transformamos todas as features para escala [0,1] `valor_normalizado = (valor - mínimo) / (máximo - mínimo)`\n",
    "\n",
    " VERIFICAR SE FOI PADRONIZADO TAMBÉM"
   ]
  },
  {
   "cell_type": "markdown",
   "id": "3a704e1d",
   "metadata": {},
   "source": [
    "Grupo de Dados 3:\n",
    "Q3.1: Aplique o kNN ao problema usando k = 1. Qual é a acurácia na classificação?\n",
    "\n",
    "Q3.2: A acurácia pode ser igual a 92% com o kNN. Descubra por que o resultado atual é muito menor. Ajuste o conjunto de dados ou k de tal forma que a acurácia se torne 92% e explique o que você fez e por quê."
   ]
  },
  {
   "cell_type": "code",
   "execution_count": 84,
   "id": "461128a4",
   "metadata": {},
   "outputs": [
    {
     "name": "stdout",
     "output_type": "stream",
     "text": [
      "Q3.1 - Acurácia com k=1 (sem normalização): 0.70\n",
      "\n",
      "Q3.2 - Acurácias próximas de 92% (com normalização):\n",
      "k=1: Acurácia = 0.74\n",
      "k=3: Acurácia = 0.84\n",
      "k=5: Acurácia = 0.84\n",
      "k=7: Acurácia = 0.90\n",
      "k=9: Acurácia = 0.92\n",
      "k=11: Acurácia = 0.92\n",
      "k=15: Acurácia = 0.92\n",
      "k=20: Acurácia = 0.94\n",
      "k=1: Acurácia = 0.74\n",
      "k=3: Acurácia = 0.78\n",
      "k=5: Acurácia = 0.86\n",
      "k=7: Acurácia = 0.86\n",
      "k=9: Acurácia = 0.88\n",
      "k=11: Acurácia = 0.90\n",
      "k=15: Acurácia = 0.90\n",
      "k=20: Acurácia = 0.92\n",
      "\n",
      "Acurácia máxima encontrada: 0.92\n"
     ]
    }
   ],
   "source": [
    "mat = scipy.loadmat('grupoDados3.mat')\n",
    "grupoTeste3 = mat['grupoTest']\n",
    "grupoTreino3 = mat['grupoTrain']\n",
    "testeRots3 = mat['testRots'].flatten()\n",
    "treinoRots3 = mat['trainRots'].flatten()\n",
    "\n",
    "#Sem normalização, k=1 (acurácia próxima de 70%)\n",
    "rotuloPrevisto = meuKnn(grupoTreino3, treinoRots3, grupoTeste3, 1)\n",
    "estaCorreto = rotuloPrevisto == testeRots3\n",
    "numCorreto = np.sum(estaCorreto)\n",
    "totalNum = len(testeRots3)\n",
    "acuracia_k1 = numCorreto / totalNum\n",
    "print(f\"Q3.1 - Acurácia com k=1 (sem normalização): {acuracia_k1:.2f}\")\n",
    "# Normalizando os dados\n",
    "grupoTreino3_norm = normalizacao(grupoTreino3)\n",
    "grupoTeste3_norm = normalizacao(grupoTeste3)\n",
    "\n",
    "grupoTeste3_normalizacao = normalizarDados(grupoTeste3)\n",
    "grupoTreino3_normalizacao = normalizarDados(grupoTreino3)\n",
    "\n",
    "resultados = {}\n",
    "print(\"\\nQ3.2 - Acurácias próximas de 92% (com normalização):\")\n",
    "for k in [1, 3, 5, 7, 9, 11, 15, 20]:\n",
    "    rotuloPrevisto = meuKnn(grupoTreino3_norm, treinoRots3, grupoTeste3_norm, k)\n",
    "    estaCorreto = rotuloPrevisto == testeRots3\n",
    "    numCorreto = np.sum(estaCorreto)\n",
    "    totalNum = len(testeRots3)\n",
    "    acuracia = numCorreto / totalNum\n",
    "    resultados[k] = acuracia\n",
    "    if acuracia >= 0.50:\n",
    "        print(f\"k={k}: Acurácia = {acuracia:.2f}\")\n",
    "        \n",
    "for k in [1, 3, 5, 7, 9, 11, 15, 20]:\n",
    "    rotuloPrevisto = meuKnn(grupoTreino3_normalizacao, treinoRots3, grupoTeste3_normalizacao, k)\n",
    "    estaCorreto = rotuloPrevisto == testeRots3\n",
    "    numCorreto = np.sum(estaCorreto)\n",
    "    totalNum = len(testeRots3)\n",
    "    acuracia = numCorreto / totalNum\n",
    "    resultados[k] = acuracia\n",
    "    if acuracia >= 0.50:\n",
    "        print(f\"k={k}: Acurácia = {acuracia:.2f}\")\n",
    "\n",
    "print(\"\\nAcurácia máxima encontrada:\", max(resultados.values()))"
   ]
  },
  {
   "cell_type": "markdown",
   "id": "202d46c2",
   "metadata": {},
   "source": [
    "Q3.1) Aplicando o k-NN com k=1 e sem normalização, a acurácia obtida foi de 70%.\n",
    "\n",
    "Q3.2) O resultado inicial foi baixo porque as variáveis estavam em escalas diferentes e o uso de k=1 torna o modelo muito sensível a ruídos. Após aplicar normalização Min–Max e ajustar o valor de k, verificamos que com k=20 a acurácia atingiu 92%, conforme esperado."
   ]
  },
  {
   "cell_type": "markdown",
   "id": "81f30718",
   "metadata": {},
   "source": [
    "# DataSet 4\n",
    "\n",
    "Q4.1: Aplique seu algoritmo K-NN ao problema. Qual é a sua acurácia de classificação?\n",
    "\n",
    "Q4.2: A acurácia pode chegar a 92% com o K-NN. Descubra por que o resultado atual é muito menor. Ajuste o conjunto de dados ou o valor de k de forma que a acurácia atinja 92% e explique o que você fez e por quê. Observe que, desta vez, há mais de um problema...\n",
    "\n",
    "OBS: Os nomes das variáveis estão diferentes neste dataset:\n",
    "\n",
    "grupoTest=testSet;\n",
    "grupoTrain=trainSet;\n",
    "testRots=testLabs;\n",
    "trainRots=trainLabs;"
   ]
  },
  {
   "cell_type": "code",
   "execution_count": 60,
   "id": "31defb3f",
   "metadata": {},
   "outputs": [],
   "source": [
    "mat = scipy.loadmat('grupoDados4.mat')\n",
    "grupoTeste4 = mat['testSet']\n",
    "grupoTreino4 = mat['trainSet']\n",
    "testeRots4 = mat['testLabs'].flatten()\n",
    "treinoRots4 = mat['trainLabs'].flatten()"
   ]
  },
  {
   "cell_type": "code",
   "execution_count": 61,
   "id": "6aa1c1b2",
   "metadata": {},
   "outputs": [],
   "source": [
    "# print(grupoTeste4)\n",
    "grupoTeste4_Normalizado = normalizarDados(grupoTeste4)\n",
    "grupoTreino4_Normalizado = normalizarDados(grupoTreino4)\n",
    "# print(grupoTreino4)\n",
    "# print(testeRots4)\n",
    "# print(treinoRots4)\n",
    "\n"
   ]
  },
  {
   "cell_type": "code",
   "execution_count": 62,
   "id": "8e0ce376",
   "metadata": {},
   "outputs": [
    {
     "name": "stdout",
     "output_type": "stream",
     "text": [
      "Acurácia máxima da classificação: 0.85\n"
     ]
    }
   ],
   "source": [
    "acuracia = 0\n",
    "\n",
    "grupoTeste4 = normalizacao(grupoTeste4)\n",
    "grupoTreino4 = normalizacao(grupoTreino4)\n",
    "\n",
    "for k in [1, 3, 5, 7, 10]:\n",
    "    rotuloPrevisto = meuKnn(grupoTreino4, treinoRots4, grupoTeste4, k)\n",
    "\n",
    "    # Acurácia\n",
    "    estaCorreto = rotuloPrevisto == testeRots4\n",
    "    numCorreto = np.sum(estaCorreto)\n",
    "    totalNum = len(testeRots4)\n",
    "    if acuracia < (numCorreto / totalNum):\n",
    "        acuracia = numCorreto / totalNum\n",
    "print(\"Acurácia máxima da classificação:\", acuracia)"
   ]
  },
  {
   "cell_type": "code",
   "execution_count": null,
   "id": "7a004672",
   "metadata": {},
   "outputs": [],
   "source": []
  }
 ],
 "metadata": {
  "kernelspec": {
   "display_name": "Python 3",
   "language": "python",
   "name": "python3"
  },
  "language_info": {
   "codemirror_mode": {
    "name": "ipython",
    "version": 3
   },
   "file_extension": ".py",
   "mimetype": "text/x-python",
   "name": "python",
   "nbconvert_exporter": "python",
   "pygments_lexer": "ipython3",
   "version": "3.13.1"
  }
 },
 "nbformat": 4,
 "nbformat_minor": 5
}
